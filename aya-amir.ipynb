{
 "cells": [
  {
   "cell_type": "code",
   "execution_count": 185,
   "id": "9a5c8719-ee8d-457f-9b43-1231657041ed",
   "metadata": {},
   "outputs": [
    {
     "name": "stdout",
     "output_type": "stream",
     "text": [
      "Requirement already satisfied: wbgapi in /opt/anaconda3/envs/jupyter_env/lib/python3.11/site-packages (1.0.12)\n",
      "Requirement already satisfied: requests in /opt/anaconda3/envs/jupyter_env/lib/python3.11/site-packages (from wbgapi) (2.32.5)\n",
      "Requirement already satisfied: PyYAML in /opt/anaconda3/envs/jupyter_env/lib/python3.11/site-packages (from wbgapi) (6.0.2)\n",
      "Requirement already satisfied: tabulate in /opt/anaconda3/envs/jupyter_env/lib/python3.11/site-packages (from wbgapi) (0.9.0)\n",
      "Requirement already satisfied: charset_normalizer<4,>=2 in /opt/anaconda3/envs/jupyter_env/lib/python3.11/site-packages (from requests->wbgapi) (3.3.2)\n",
      "Requirement already satisfied: idna<4,>=2.5 in /opt/anaconda3/envs/jupyter_env/lib/python3.11/site-packages (from requests->wbgapi) (3.7)\n",
      "Requirement already satisfied: urllib3<3,>=1.21.1 in /opt/anaconda3/envs/jupyter_env/lib/python3.11/site-packages (from requests->wbgapi) (2.5.0)\n",
      "Requirement already satisfied: certifi>=2017.4.17 in /opt/anaconda3/envs/jupyter_env/lib/python3.11/site-packages (from requests->wbgapi) (2025.8.3)\n",
      "Note: you may need to restart the kernel to use updated packages.\n"
     ]
    }
   ],
   "source": [
    "pip install wbgapi"
   ]
  },
  {
   "cell_type": "code",
   "execution_count": 186,
   "id": "6624845f-f4d1-41de-8832-c5e7b189172c",
   "metadata": {},
   "outputs": [
    {
     "name": "stdout",
     "output_type": "stream",
     "text": [
      "Requirement already satisfied: scipy in /opt/anaconda3/envs/jupyter_env/lib/python3.11/site-packages (1.16.2)\n",
      "Requirement already satisfied: numpy<2.6,>=1.25.2 in /opt/anaconda3/envs/jupyter_env/lib/python3.11/site-packages (from scipy) (2.0.1)\n",
      "Note: you may need to restart the kernel to use updated packages.\n"
     ]
    }
   ],
   "source": [
    "pip install scipy"
   ]
  },
  {
   "cell_type": "code",
   "execution_count": 187,
   "id": "a94f805d-6429-4a2d-bf04-84596c79b1c4",
   "metadata": {},
   "outputs": [],
   "source": [
    "import pandas as pd\n",
    "import seaborn as sns\n",
    "import wbgapi as wb\n",
    "import numpy as np\n",
    "import matplotlib.pyplot as plt\n",
    "import requests"
   ]
  },
  {
   "cell_type": "markdown",
   "id": "96aaf5a6-b769-45a5-bffb-bd2becface2e",
   "metadata": {},
   "source": [
    "Getting data about CO2 emissions per capita of all countries on OWID"
   ]
  },
  {
   "cell_type": "code",
   "execution_count": 188,
   "id": "e782d3e6-e897-42f3-9c1c-ba3a1f087759",
   "metadata": {},
   "outputs": [
    {
     "name": "stdout",
     "output_type": "stream",
     "text": [
      "        Country Code  Year  Emission rate\n",
      "51  Afghanistan  AFG  2000       0.052017\n",
      "52  Afghanistan  AFG  2001       0.052706\n",
      "53  Afghanistan  AFG  2002       0.062727\n",
      "54  Afghanistan  AFG  2003       0.068605\n",
      "55  Afghanistan  AFG  2004       0.052513\n"
     ]
    }
   ],
   "source": [
    "co = pd.read_csv(\"https://ourworldindata.org/grapher/co-emissions-per-capita.csv?v=1&csvType=full&useColumnShortNames=true\", storage_options = {'User-Agent': 'Our World In Data data fetch/1.0'}) #got this code directly from OWID\n",
    "co_filter = co[(co['Year'] >= 2000) & (co['Year'] <= 2024)]\n",
    "co_filtered = co_filter.rename(columns={'Entity':'Country','emissions_total_per_capita':'Emission rate'}) #renaming it to make it easier\n",
    "print(co_filtered.head())"
   ]
  },
  {
   "cell_type": "markdown",
   "id": "34408e62-0f56-481d-95b5-7beb962cc657",
   "metadata": {},
   "source": [
    "Since we also want to work only with Asian countries, we filter out only Asian countries from this list"
   ]
  },
  {
   "cell_type": "code",
   "execution_count": 189,
   "id": "c34b9e5a-ac3d-4b4f-a860-b4ccd3d19d70",
   "metadata": {},
   "outputs": [
    {
     "name": "stdout",
     "output_type": "stream",
     "text": [
      "           Country Code  Year  Emission rate          Region\n",
      "51     Afghanistan  AFG  2000       0.052017      South Asia\n",
      "52     Afghanistan  AFG  2001       0.052706      South Asia\n",
      "53     Afghanistan  AFG  2002       0.062727      South Asia\n",
      "54     Afghanistan  AFG  2003       0.068605      South Asia\n",
      "55     Afghanistan  AFG  2004       0.052513      South Asia\n",
      "...            ...  ...   ...            ...             ...\n",
      "25741      Vietnam  VNM  2019       3.490108  Southeast Asia\n",
      "25742      Vietnam  VNM  2020       3.695581  Southeast Asia\n",
      "25743      Vietnam  VNM  2021       3.173521  Southeast Asia\n",
      "25744      Vietnam  VNM  2022       2.985874  Southeast Asia\n",
      "25745      Vietnam  VNM  2023       3.335514  Southeast Asia\n",
      "\n",
      "[1128 rows x 5 columns]\n"
     ]
    }
   ],
   "source": [
    "asian_countries = {\n",
    "    'AFG': 'South Asia','BGD': 'South Asia','BTN': 'South Asia','IND': 'South Asia','NPL': 'South Asia','PAK': 'South Asia','LKA': 'South Asia',\n",
    "    'CHN': 'East Asia','HKG': 'East Asia','JPN': 'East Asia','MAC': 'East Asia','MNG': 'East Asia','PRK': 'East Asia','KOR': 'East Asia','TWN': 'East Asia',\n",
    "    'BRN': 'Southeast Asia','KHM': 'Southeast Asia','TLS': 'Southeast Asia','IDN': 'Southeast Asia','LAO': 'Southeast Asia','MYS': 'Southeast Asia','PHL': 'Southeast Asia','SGP': 'Southeast Asia','THA': 'Southeast Asia','VNM': 'Southeast Asia',\n",
    "    'KAZ': 'Central Asia','KGZ': 'Central Asia','TJK': 'Central Asia','TKM': 'Central Asia','UZB': 'Central Asia',\n",
    "    'ARM': 'West Asia','AZE': 'West Asia','BHR': 'West Asia','CYP': 'West Asia','GEO': 'West Asia','IRQ': 'West Asia','ISR': 'West Asia','JOR': 'West Asia','KWT': 'West Asia','LBN': 'West Asia','OMN': 'West Asia','PSE': 'West Asia','QAT': 'West Asia','SAU': 'West Asia','SYR': 'West Asia','TUR': 'West Asia','ARE': 'West Asia',\n",
    "\n",
    "}\n",
    "co_asia = co_filtered[co_filtered['Code'].isin(asian_countries)].copy()\n",
    "co_asia.loc[:, 'Region']=co_asia['Code'].map(asian_countries)\n",
    "print(co_asia)"
   ]
  },
  {
   "cell_type": "markdown",
   "id": "dd2cad8e-babf-44c3-bfc0-6dacaba2ffe2",
   "metadata": {},
   "source": [
    "Using World Bank, getting information about GDP per capita of all countries"
   ]
  },
  {
   "cell_type": "code",
   "execution_count": 190,
   "id": "87c0edc7-9051-4128-aa35-79c9c55ea9e6",
   "metadata": {},
   "outputs": [
    {
     "name": "stdout",
     "output_type": "stream",
     "text": [
      "               YR2000        YR2001        YR2002        YR2003        YR2004  \\\n",
      "economy                                                                         \n",
      "ABW      20681.023027  20740.132583  21307.248251  21949.485996  23700.631990   \n",
      "AFE        707.120378    626.169150    625.998816    809.968140    981.744632   \n",
      "AFG        174.930991    138.706822    178.954088    198.871116    221.763654   \n",
      "AFW        516.932316    530.653168    616.796033    694.500938    840.252085   \n",
      "AGO        563.733796    533.586202    882.147847    992.698979   1266.210864   \n",
      "\n",
      "               YR2005        YR2006        YR2007        YR2008        YR2009  \\\n",
      "economy                                                                         \n",
      "ABW      24171.837133  24845.658484  26736.308944  28171.909401  25134.771230   \n",
      "AFE       1115.713957   1220.002469   1362.310652   1421.118613   1386.590250   \n",
      "AFG        254.184249    274.218554    376.223152    381.733238    452.053705   \n",
      "AFW       1001.604607   1236.628127   1407.642058   1668.841082   1454.728331   \n",
      "AGO       1916.468422   2617.051960   3141.045980   4103.066900   3136.645470   \n",
      "\n",
      "         ...        YR2015        YR2016        YR2017        YR2018  \\\n",
      "economy  ...                                                           \n",
      "ABW      ...  27458.225331  27441.529662  28440.051964  30082.127645   \n",
      "AFE      ...   1479.615260   1329.807285   1520.212231   1538.901679   \n",
      "AFG      ...    565.569730    522.082216    525.469771    491.337221   \n",
      "AFW      ...   1860.727694   1630.039447   1574.230560   1720.140280   \n",
      "AGO      ...   3213.902611   1807.952941   2437.259712   2538.591391   \n",
      "\n",
      "               YR2019        YR2020        YR2021        YR2022        YR2023  \\\n",
      "economy                                                                         \n",
      "ABW      31096.205074  22855.932320  27200.061079  30559.533535  33984.790620   \n",
      "AFE       1493.817938   1344.103210   1522.393346   1628.318944   1510.742951   \n",
      "AFG        496.602504    510.787063    356.496214    357.261153    413.757895   \n",
      "AFW       1798.340685   1680.039332   1765.954788   1796.668633   1599.392983   \n",
      "AGO       2189.855714   1449.922867   1925.874661   2929.694455   2309.534130   \n",
      "\n",
      "              YR2024  \n",
      "economy               \n",
      "ABW              NaN  \n",
      "AFE      1567.635839  \n",
      "AFG              NaN  \n",
      "AFW      1284.154441  \n",
      "AGO      2122.083690  \n",
      "\n",
      "[5 rows x 25 columns]\n",
      "  Code  Year           GDP\n",
      "0  ABW  2000  20681.023027\n",
      "1  AFE  2000    707.120378\n",
      "2  AFG  2000    174.930991\n",
      "3  AFW  2000    516.932316\n",
      "4  AGO  2000    563.733796\n"
     ]
    }
   ],
   "source": [
    "gdp = wb.data.DataFrame(\"NY.GDP.PCAP.CD\", time=range(2000, 2025))\n",
    "print(gdp.head())\n",
    "gdp_long = gdp.reset_index().melt( #the world bank's data was in wide format, but we need a long format, so we change it using melt()\n",
    "    id_vars='economy', #the identifier \n",
    "    var_name='Year', #since in the WB data all columns contained seperate years like YR2000, we making them all one column called Year\n",
    "    value_name='GDP' #same but with GDP\n",
    ")\n",
    "gdp_long['Year'] = gdp_long['Year'].str.replace('YR','').astype(int) #deleting the YR in YR2000-YR2023\n",
    "gdp_long = gdp_long.rename(columns={'economy':'Code'}) #renaming it to make it easier\n",
    "print(gdp_long.head())"
   ]
  },
  {
   "cell_type": "markdown",
   "id": "906f7fd2-7475-4af8-8973-e0ce0f345748",
   "metadata": {},
   "source": [
    "Only Asian countries' GDP per capita"
   ]
  },
  {
   "cell_type": "code",
   "execution_count": 191,
   "id": "1984dbca-d7de-461d-a0d2-2b1fe912caec",
   "metadata": {},
   "outputs": [
    {
     "name": "stdout",
     "output_type": "stream",
     "text": [
      "     Code  Year           GDP\n",
      "2     AFG  2000    174.930991\n",
      "8     ARE  2000  29865.502347\n",
      "10    ARM  2000    593.450582\n",
      "15    AZE  2000    655.097250\n",
      "20    BGD  2000    396.670730\n",
      "...   ...   ...           ...\n",
      "6619  TKM  2024   8571.607029\n",
      "6621  TLS  2024   1343.148860\n",
      "6628  TUR  2024  15473.287264\n",
      "6636  UZB  2024   3161.700106\n",
      "6641  VNM  2024   4717.290287\n",
      "\n",
      "[1150 rows x 3 columns]\n"
     ]
    }
   ],
   "source": [
    "gdp_asia = gdp_long[gdp_long['Code'].isin(asian_countries)]\n",
    "print(gdp_asia)"
   ]
  },
  {
   "cell_type": "markdown",
   "id": "ce3c93cd-d9cd-4835-bd44-975e7f95b38d",
   "metadata": {},
   "source": [
    "Getting literacy level of all countries on World Bank"
   ]
  },
  {
   "cell_type": "code",
   "execution_count": 192,
   "id": "a6837d85-4290-426d-a887-01e4f4974215",
   "metadata": {},
   "outputs": [
    {
     "name": "stdout",
     "output_type": "stream",
     "text": [
      "            YR2000     YR2001    YR2002     YR2003     YR2004     YR2005  \\\n",
      "economy                                                                    \n",
      "ABW      97.290001        NaN       NaN        NaN        NaN        NaN   \n",
      "AFE      62.666618  63.157761  63.83762  64.334061  64.574913  63.941471   \n",
      "AFG            NaN        NaN       NaN        NaN        NaN        NaN   \n",
      "AFW      47.622810  48.817509  49.55825  50.144859  51.485821  51.608898   \n",
      "AGO            NaN  67.410004       NaN        NaN        NaN        NaN   \n",
      "\n",
      "            YR2006     YR2007     YR2008     YR2009  ...     YR2015  \\\n",
      "economy                                              ...              \n",
      "ABW            NaN        NaN        NaN        NaN  ...        NaN   \n",
      "AFE      61.945911  62.969959  63.228230  63.960812  ...  70.237839   \n",
      "AFG            NaN        NaN        NaN        NaN  ...  33.750000   \n",
      "AFW      52.296558  50.303822  50.750198  50.847118  ...  55.410019   \n",
      "AGO            NaN        NaN        NaN        NaN  ...  66.239998   \n",
      "\n",
      "            YR2016     YR2017     YR2018     YR2019     YR2020     YR2021  \\\n",
      "economy                                                                     \n",
      "ABW            NaN        NaN        NaN        NaN        NaN        NaN   \n",
      "AFE      70.957268  70.879730  71.670189  72.801079  72.976891  72.715973   \n",
      "AFG            NaN        NaN        NaN        NaN  35.986555  37.270000   \n",
      "AFW      55.871620  56.878521  60.354950  60.136391  60.252811  60.510891   \n",
      "AGO            NaN        NaN        NaN        NaN        NaN        NaN   \n",
      "\n",
      "            YR2022     YR2023     YR2024  \n",
      "economy                                   \n",
      "ABW            NaN        NaN        NaN  \n",
      "AFE      73.055977  73.368141  73.695129  \n",
      "AFG            NaN        NaN        NaN  \n",
      "AFW      60.780979  61.026360  61.173969  \n",
      "AGO            NaN        NaN        NaN  \n",
      "\n",
      "[5 rows x 25 columns]\n",
      "  Code  Year        Lit\n",
      "0  ABW  2000  97.290001\n",
      "1  AFE  2000  62.666618\n",
      "2  AFG  2000        NaN\n",
      "3  AFW  2000  47.622810\n",
      "4  AGO  2000        NaN\n"
     ]
    }
   ],
   "source": [
    "edu = wb.data.DataFrame(\"SE.ADT.LITR.ZS\", time=range(2000, 2025))\n",
    "print(edu.head())\n",
    "edu_long = edu.reset_index().melt(\n",
    "    id_vars='economy',\n",
    "    var_name='Year',\n",
    "    value_name='Lit'\n",
    ")\n",
    "edu_long['Year'] = edu_long['Year'].str.replace('YR','').astype(int) #everything same as with GDP\n",
    "edu_long = edu_long.rename(columns={'economy':'Code'})\n",
    "print(edu_long.head())"
   ]
  },
  {
   "cell_type": "markdown",
   "id": "99f74cbc-d157-45df-ac82-04d426edb6be",
   "metadata": {},
   "source": [
    "Point summary of all data above"
   ]
  },
  {
   "cell_type": "code",
   "execution_count": 193,
   "id": "e09fff00-c1c3-4ffd-83b5-ff40621f06a4",
   "metadata": {},
   "outputs": [
    {
     "name": "stdout",
     "output_type": "stream",
     "text": [
      "     Code  Year  Lit\n",
      "2     AFG  2000  NaN\n",
      "8     ARE  2000  NaN\n",
      "10    ARM  2000  NaN\n",
      "15    AZE  2000  NaN\n",
      "20    BGD  2000  NaN\n",
      "...   ...   ...  ...\n",
      "6619  TKM  2024  NaN\n",
      "6621  TLS  2024  NaN\n",
      "6628  TUR  2024  NaN\n",
      "6636  UZB  2024  NaN\n",
      "6641  VNM  2024  NaN\n",
      "\n",
      "[1150 rows x 3 columns]\n"
     ]
    }
   ],
   "source": [
    "edu_asia = edu_long[gdp_long['Code'].isin(asian_countries)]\n",
    "print(edu_asia)"
   ]
  },
  {
   "cell_type": "code",
   "execution_count": 194,
   "id": "b0a432ba-0c6f-4436-a566-2447675a2d1d",
   "metadata": {},
   "outputs": [
    {
     "data": {
      "text/html": [
       "<div>\n",
       "<style scoped>\n",
       "    .dataframe tbody tr th:only-of-type {\n",
       "        vertical-align: middle;\n",
       "    }\n",
       "\n",
       "    .dataframe tbody tr th {\n",
       "        vertical-align: top;\n",
       "    }\n",
       "\n",
       "    .dataframe thead th {\n",
       "        text-align: right;\n",
       "    }\n",
       "</style>\n",
       "<table border=\"1\" class=\"dataframe\">\n",
       "  <thead>\n",
       "    <tr style=\"text-align: right;\">\n",
       "      <th></th>\n",
       "      <th>count</th>\n",
       "      <th>mean</th>\n",
       "      <th>std</th>\n",
       "      <th>min</th>\n",
       "      <th>25%</th>\n",
       "      <th>50%</th>\n",
       "      <th>75%</th>\n",
       "      <th>max</th>\n",
       "    </tr>\n",
       "  </thead>\n",
       "  <tbody>\n",
       "    <tr>\n",
       "      <th>Year</th>\n",
       "      <td>5544.0</td>\n",
       "      <td>2011.500000</td>\n",
       "      <td>6.922811</td>\n",
       "      <td>2000.0</td>\n",
       "      <td>2005.750000</td>\n",
       "      <td>2011.500000</td>\n",
       "      <td>2017.250000</td>\n",
       "      <td>2023.00000</td>\n",
       "    </tr>\n",
       "    <tr>\n",
       "      <th>Emission rate</th>\n",
       "      <td>5544.0</td>\n",
       "      <td>5.106126</td>\n",
       "      <td>6.338801</td>\n",
       "      <td>0.0</td>\n",
       "      <td>0.879378</td>\n",
       "      <td>3.170213</td>\n",
       "      <td>7.177857</td>\n",
       "      <td>67.58374</td>\n",
       "    </tr>\n",
       "  </tbody>\n",
       "</table>\n",
       "</div>"
      ],
      "text/plain": [
       "                count         mean       std     min          25%  \\\n",
       "Year           5544.0  2011.500000  6.922811  2000.0  2005.750000   \n",
       "Emission rate  5544.0     5.106126  6.338801     0.0     0.879378   \n",
       "\n",
       "                       50%          75%         max  \n",
       "Year           2011.500000  2017.250000  2023.00000  \n",
       "Emission rate     3.170213     7.177857    67.58374  "
      ]
     },
     "execution_count": 194,
     "metadata": {},
     "output_type": "execute_result"
    }
   ],
   "source": [
    "co_filtered.describe().T"
   ]
  },
  {
   "cell_type": "code",
   "execution_count": 195,
   "id": "333a266f-e5a6-4a95-98fb-e72393b0f9d8",
   "metadata": {},
   "outputs": [
    {
     "data": {
      "text/html": [
       "<div>\n",
       "<style scoped>\n",
       "    .dataframe tbody tr th:only-of-type {\n",
       "        vertical-align: middle;\n",
       "    }\n",
       "\n",
       "    .dataframe tbody tr th {\n",
       "        vertical-align: top;\n",
       "    }\n",
       "\n",
       "    .dataframe thead th {\n",
       "        text-align: right;\n",
       "    }\n",
       "</style>\n",
       "<table border=\"1\" class=\"dataframe\">\n",
       "  <thead>\n",
       "    <tr style=\"text-align: right;\">\n",
       "      <th></th>\n",
       "      <th>count</th>\n",
       "      <th>mean</th>\n",
       "      <th>std</th>\n",
       "      <th>min</th>\n",
       "      <th>25%</th>\n",
       "      <th>50%</th>\n",
       "      <th>75%</th>\n",
       "      <th>max</th>\n",
       "    </tr>\n",
       "  </thead>\n",
       "  <tbody>\n",
       "    <tr>\n",
       "      <th>Year</th>\n",
       "      <td>6650.0</td>\n",
       "      <td>2012.000000</td>\n",
       "      <td>7.211645</td>\n",
       "      <td>2000.00</td>\n",
       "      <td>2006.000000</td>\n",
       "      <td>2012.00000</td>\n",
       "      <td>2018.000000</td>\n",
       "      <td>2024.0</td>\n",
       "    </tr>\n",
       "    <tr>\n",
       "      <th>Lit</th>\n",
       "      <td>1863.0</td>\n",
       "      <td>80.485527</td>\n",
       "      <td>16.848101</td>\n",
       "      <td>14.38</td>\n",
       "      <td>67.200718</td>\n",
       "      <td>85.95665</td>\n",
       "      <td>94.720001</td>\n",
       "      <td>100.0</td>\n",
       "    </tr>\n",
       "  </tbody>\n",
       "</table>\n",
       "</div>"
      ],
      "text/plain": [
       "       count         mean        std      min          25%         50%  \\\n",
       "Year  6650.0  2012.000000   7.211645  2000.00  2006.000000  2012.00000   \n",
       "Lit   1863.0    80.485527  16.848101    14.38    67.200718    85.95665   \n",
       "\n",
       "              75%     max  \n",
       "Year  2018.000000  2024.0  \n",
       "Lit     94.720001   100.0  "
      ]
     },
     "execution_count": 195,
     "metadata": {},
     "output_type": "execute_result"
    }
   ],
   "source": [
    "edu_long.describe().T"
   ]
  },
  {
   "cell_type": "code",
   "execution_count": 196,
   "id": "c3454e52-1334-464f-9247-0344518c1e38",
   "metadata": {},
   "outputs": [
    {
     "data": {
      "text/html": [
       "<div>\n",
       "<style scoped>\n",
       "    .dataframe tbody tr th:only-of-type {\n",
       "        vertical-align: middle;\n",
       "    }\n",
       "\n",
       "    .dataframe tbody tr th {\n",
       "        vertical-align: top;\n",
       "    }\n",
       "\n",
       "    .dataframe thead th {\n",
       "        text-align: right;\n",
       "    }\n",
       "</style>\n",
       "<table border=\"1\" class=\"dataframe\">\n",
       "  <thead>\n",
       "    <tr style=\"text-align: right;\">\n",
       "      <th></th>\n",
       "      <th>count</th>\n",
       "      <th>mean</th>\n",
       "      <th>std</th>\n",
       "      <th>min</th>\n",
       "      <th>25%</th>\n",
       "      <th>50%</th>\n",
       "      <th>75%</th>\n",
       "      <th>max</th>\n",
       "    </tr>\n",
       "  </thead>\n",
       "  <tbody>\n",
       "    <tr>\n",
       "      <th>Year</th>\n",
       "      <td>6650.0</td>\n",
       "      <td>2012.000000</td>\n",
       "      <td>7.211645</td>\n",
       "      <td>2000.000000</td>\n",
       "      <td>2006.000000</td>\n",
       "      <td>2012.000000</td>\n",
       "      <td>2018.000000</td>\n",
       "      <td>2024.000000</td>\n",
       "    </tr>\n",
       "    <tr>\n",
       "      <th>GDP</th>\n",
       "      <td>6413.0</td>\n",
       "      <td>14831.301378</td>\n",
       "      <td>23313.101751</td>\n",
       "      <td>109.593814</td>\n",
       "      <td>1554.126103</td>\n",
       "      <td>5083.606955</td>\n",
       "      <td>18686.405096</td>\n",
       "      <td>256580.515123</td>\n",
       "    </tr>\n",
       "  </tbody>\n",
       "</table>\n",
       "</div>"
      ],
      "text/plain": [
       "       count          mean           std          min          25%  \\\n",
       "Year  6650.0   2012.000000      7.211645  2000.000000  2006.000000   \n",
       "GDP   6413.0  14831.301378  23313.101751   109.593814  1554.126103   \n",
       "\n",
       "              50%           75%            max  \n",
       "Year  2012.000000   2018.000000    2024.000000  \n",
       "GDP   5083.606955  18686.405096  256580.515123  "
      ]
     },
     "execution_count": 196,
     "metadata": {},
     "output_type": "execute_result"
    }
   ],
   "source": [
    "gdp_long.describe().T"
   ]
  },
  {
   "cell_type": "code",
   "execution_count": 197,
   "id": "3d839a3b-215d-4ca7-8347-834cd0bf7794",
   "metadata": {},
   "outputs": [
    {
     "data": {
      "text/html": [
       "<div>\n",
       "<style scoped>\n",
       "    .dataframe tbody tr th:only-of-type {\n",
       "        vertical-align: middle;\n",
       "    }\n",
       "\n",
       "    .dataframe tbody tr th {\n",
       "        vertical-align: top;\n",
       "    }\n",
       "\n",
       "    .dataframe thead th {\n",
       "        text-align: right;\n",
       "    }\n",
       "</style>\n",
       "<table border=\"1\" class=\"dataframe\">\n",
       "  <thead>\n",
       "    <tr style=\"text-align: right;\">\n",
       "      <th></th>\n",
       "      <th>count</th>\n",
       "      <th>mean</th>\n",
       "      <th>std</th>\n",
       "      <th>min</th>\n",
       "      <th>25%</th>\n",
       "      <th>50%</th>\n",
       "      <th>75%</th>\n",
       "      <th>max</th>\n",
       "    </tr>\n",
       "  </thead>\n",
       "  <tbody>\n",
       "    <tr>\n",
       "      <th>Year</th>\n",
       "      <td>1150.0</td>\n",
       "      <td>2012.000000</td>\n",
       "      <td>7.214240</td>\n",
       "      <td>2000.000000</td>\n",
       "      <td>2006.00000</td>\n",
       "      <td>2012.000000</td>\n",
       "      <td>2018.00000</td>\n",
       "      <td>2024.000000</td>\n",
       "    </tr>\n",
       "    <tr>\n",
       "      <th>GDP</th>\n",
       "      <td>1120.0</td>\n",
       "      <td>13470.509818</td>\n",
       "      <td>18475.310596</td>\n",
       "      <td>136.925716</td>\n",
       "      <td>1380.16018</td>\n",
       "      <td>4107.295723</td>\n",
       "      <td>22061.25195</td>\n",
       "      <td>108470.378825</td>\n",
       "    </tr>\n",
       "  </tbody>\n",
       "</table>\n",
       "</div>"
      ],
      "text/plain": [
       "       count          mean           std          min         25%  \\\n",
       "Year  1150.0   2012.000000      7.214240  2000.000000  2006.00000   \n",
       "GDP   1120.0  13470.509818  18475.310596   136.925716  1380.16018   \n",
       "\n",
       "              50%          75%            max  \n",
       "Year  2012.000000   2018.00000    2024.000000  \n",
       "GDP   4107.295723  22061.25195  108470.378825  "
      ]
     },
     "execution_count": 197,
     "metadata": {},
     "output_type": "execute_result"
    }
   ],
   "source": [
    "gdp_asia.describe().T"
   ]
  },
  {
   "cell_type": "code",
   "execution_count": 198,
   "id": "3d6d25b2-995f-4247-8c56-f25af1f1ecad",
   "metadata": {},
   "outputs": [
    {
     "data": {
      "text/html": [
       "<div>\n",
       "<style scoped>\n",
       "    .dataframe tbody tr th:only-of-type {\n",
       "        vertical-align: middle;\n",
       "    }\n",
       "\n",
       "    .dataframe tbody tr th {\n",
       "        vertical-align: top;\n",
       "    }\n",
       "\n",
       "    .dataframe thead th {\n",
       "        text-align: right;\n",
       "    }\n",
       "</style>\n",
       "<table border=\"1\" class=\"dataframe\">\n",
       "  <thead>\n",
       "    <tr style=\"text-align: right;\">\n",
       "      <th></th>\n",
       "      <th>count</th>\n",
       "      <th>mean</th>\n",
       "      <th>std</th>\n",
       "      <th>min</th>\n",
       "      <th>25%</th>\n",
       "      <th>50%</th>\n",
       "      <th>75%</th>\n",
       "      <th>max</th>\n",
       "    </tr>\n",
       "  </thead>\n",
       "  <tbody>\n",
       "    <tr>\n",
       "      <th>Year</th>\n",
       "      <td>1128.0</td>\n",
       "      <td>2011.500000</td>\n",
       "      <td>6.925257</td>\n",
       "      <td>2000.000000</td>\n",
       "      <td>2005.750000</td>\n",
       "      <td>2011.500000</td>\n",
       "      <td>2017.250000</td>\n",
       "      <td>2023.00000</td>\n",
       "    </tr>\n",
       "    <tr>\n",
       "      <th>Emission rate</th>\n",
       "      <td>1128.0</td>\n",
       "      <td>7.167019</td>\n",
       "      <td>9.371634</td>\n",
       "      <td>0.052017</td>\n",
       "      <td>1.133851</td>\n",
       "      <td>3.443355</td>\n",
       "      <td>9.479314</td>\n",
       "      <td>67.58374</td>\n",
       "    </tr>\n",
       "  </tbody>\n",
       "</table>\n",
       "</div>"
      ],
      "text/plain": [
       "                count         mean       std          min          25%  \\\n",
       "Year           1128.0  2011.500000  6.925257  2000.000000  2005.750000   \n",
       "Emission rate  1128.0     7.167019  9.371634     0.052017     1.133851   \n",
       "\n",
       "                       50%          75%         max  \n",
       "Year           2011.500000  2017.250000  2023.00000  \n",
       "Emission rate     3.443355     9.479314    67.58374  "
      ]
     },
     "execution_count": 198,
     "metadata": {},
     "output_type": "execute_result"
    }
   ],
   "source": [
    "co_asia.describe().T"
   ]
  },
  {
   "cell_type": "markdown",
   "id": "8eab965a-75d1-46b2-b5b3-d509e1696c66",
   "metadata": {},
   "source": [
    "Information about data"
   ]
  },
  {
   "cell_type": "code",
   "execution_count": 199,
   "id": "eb5376d9-695c-4353-a9f2-7c421e7a404a",
   "metadata": {},
   "outputs": [
    {
     "name": "stdout",
     "output_type": "stream",
     "text": [
      "<class 'pandas.core.frame.DataFrame'>\n",
      "Index: 5544 entries, 51 to 26277\n",
      "Data columns (total 4 columns):\n",
      " #   Column         Non-Null Count  Dtype  \n",
      "---  ------         --------------  -----  \n",
      " 0   Country        5544 non-null   object \n",
      " 1   Code           5160 non-null   object \n",
      " 2   Year           5544 non-null   int64  \n",
      " 3   Emission rate  5544 non-null   float64\n",
      "dtypes: float64(1), int64(1), object(2)\n",
      "memory usage: 216.6+ KB\n"
     ]
    }
   ],
   "source": [
    "co_filtered.info()"
   ]
  },
  {
   "cell_type": "code",
   "execution_count": 200,
   "id": "a70c04cc-6e8a-4c6f-a7c2-c9efeaa3283d",
   "metadata": {},
   "outputs": [
    {
     "name": "stdout",
     "output_type": "stream",
     "text": [
      "<class 'pandas.core.frame.DataFrame'>\n",
      "RangeIndex: 6650 entries, 0 to 6649\n",
      "Data columns (total 3 columns):\n",
      " #   Column  Non-Null Count  Dtype  \n",
      "---  ------  --------------  -----  \n",
      " 0   Code    6650 non-null   object \n",
      " 1   Year    6650 non-null   int64  \n",
      " 2   GDP     6413 non-null   float64\n",
      "dtypes: float64(1), int64(1), object(1)\n",
      "memory usage: 156.0+ KB\n"
     ]
    }
   ],
   "source": [
    "gdp_long.info()"
   ]
  },
  {
   "cell_type": "code",
   "execution_count": 201,
   "id": "7c66352d-a5af-4c59-8e98-d1b3e488ca81",
   "metadata": {},
   "outputs": [
    {
     "name": "stdout",
     "output_type": "stream",
     "text": [
      "<class 'pandas.core.frame.DataFrame'>\n",
      "RangeIndex: 6650 entries, 0 to 6649\n",
      "Data columns (total 3 columns):\n",
      " #   Column  Non-Null Count  Dtype  \n",
      "---  ------  --------------  -----  \n",
      " 0   Code    6650 non-null   object \n",
      " 1   Year    6650 non-null   int64  \n",
      " 2   Lit     1863 non-null   float64\n",
      "dtypes: float64(1), int64(1), object(1)\n",
      "memory usage: 156.0+ KB\n"
     ]
    }
   ],
   "source": [
    "edu_long.info()"
   ]
  },
  {
   "cell_type": "code",
   "execution_count": 202,
   "id": "a35b811a-483f-462b-8c36-197a7e0adc80",
   "metadata": {},
   "outputs": [
    {
     "name": "stdout",
     "output_type": "stream",
     "text": [
      "<class 'pandas.core.frame.DataFrame'>\n",
      "Index: 1128 entries, 51 to 25745\n",
      "Data columns (total 5 columns):\n",
      " #   Column         Non-Null Count  Dtype  \n",
      "---  ------         --------------  -----  \n",
      " 0   Country        1128 non-null   object \n",
      " 1   Code           1128 non-null   object \n",
      " 2   Year           1128 non-null   int64  \n",
      " 3   Emission rate  1128 non-null   float64\n",
      " 4   Region         1128 non-null   object \n",
      "dtypes: float64(1), int64(1), object(3)\n",
      "memory usage: 52.9+ KB\n"
     ]
    }
   ],
   "source": [
    "co_asia.info()"
   ]
  },
  {
   "cell_type": "code",
   "execution_count": 203,
   "id": "6352b5b6-1a6e-4621-8aef-a8b580f6cb14",
   "metadata": {},
   "outputs": [
    {
     "name": "stdout",
     "output_type": "stream",
     "text": [
      "<class 'pandas.core.frame.DataFrame'>\n",
      "Index: 1150 entries, 2 to 6641\n",
      "Data columns (total 3 columns):\n",
      " #   Column  Non-Null Count  Dtype  \n",
      "---  ------  --------------  -----  \n",
      " 0   Code    1150 non-null   object \n",
      " 1   Year    1150 non-null   int64  \n",
      " 2   GDP     1120 non-null   float64\n",
      "dtypes: float64(1), int64(1), object(1)\n",
      "memory usage: 35.9+ KB\n"
     ]
    }
   ],
   "source": [
    "gdp_asia.info()"
   ]
  },
  {
   "cell_type": "code",
   "execution_count": 204,
   "id": "466e8198-4fb5-45db-b65b-dba23be140cf",
   "metadata": {},
   "outputs": [
    {
     "name": "stdout",
     "output_type": "stream",
     "text": [
      "<class 'pandas.core.frame.DataFrame'>\n",
      "Index: 1150 entries, 2 to 6641\n",
      "Data columns (total 3 columns):\n",
      " #   Column  Non-Null Count  Dtype  \n",
      "---  ------  --------------  -----  \n",
      " 0   Code    1150 non-null   object \n",
      " 1   Year    1150 non-null   int64  \n",
      " 2   Lit     304 non-null    float64\n",
      "dtypes: float64(1), int64(1), object(1)\n",
      "memory usage: 35.9+ KB\n"
     ]
    }
   ],
   "source": [
    "edu_asia.info()"
   ]
  },
  {
   "cell_type": "markdown",
   "id": "c45d973f-5c91-4171-80c5-1e1547e28e0c",
   "metadata": {},
   "source": [
    "Checking for null data and dropping if have"
   ]
  },
  {
   "cell_type": "code",
   "execution_count": 205,
   "id": "beb1a82f-98d6-4f4b-af2a-6f90fe1ad493",
   "metadata": {},
   "outputs": [
    {
     "name": "stdout",
     "output_type": "stream",
     "text": [
      "Country          False\n",
      "Code              True\n",
      "Year             False\n",
      "Emission rate    False\n",
      "dtype: bool\n"
     ]
    }
   ],
   "source": [
    "print(co_filtered.isna().any())"
   ]
  },
  {
   "cell_type": "code",
   "execution_count": 206,
   "id": "350613cf-5858-47b1-a31c-871a8e1087f6",
   "metadata": {},
   "outputs": [
    {
     "name": "stdout",
     "output_type": "stream",
     "text": [
      "Code    False\n",
      "Year    False\n",
      "GDP      True\n",
      "dtype: bool\n",
      "     Code  Year           GDP\n",
      "0     ABW  2000  20681.023027\n",
      "1     AFE  2000    707.120378\n",
      "2     AFG  2000    174.930991\n",
      "3     AFW  2000    516.932316\n",
      "4     AGO  2000    563.733796\n",
      "...   ...   ...           ...\n",
      "6644  WSM  2024   4898.771408\n",
      "6645  XKX  2024   7299.434981\n",
      "6647  ZAF  2024   6253.371582\n",
      "6648  ZMB  2024   1235.084665\n",
      "6649  ZWE  2024   2656.409377\n",
      "\n",
      "[6413 rows x 3 columns]\n"
     ]
    }
   ],
   "source": [
    "print(gdp_long.isna().any())\n",
    "gdp_filtered = gdp_long.dropna()\n",
    "print(gdp_filtered)"
   ]
  },
  {
   "cell_type": "code",
   "execution_count": 207,
   "id": "357d464b-0ff8-4c30-a6a3-2bd73ca9d59a",
   "metadata": {},
   "outputs": [
    {
     "name": "stdout",
     "output_type": "stream",
     "text": [
      "Code    False\n",
      "Year    False\n",
      "Lit      True\n",
      "dtype: bool\n",
      "     Code  Year        Lit\n",
      "0     ABW  2000  97.290001\n",
      "1     AFE  2000  62.666618\n",
      "3     AFW  2000  47.622810\n",
      "7     ARB  2000  65.156418\n",
      "16    BDI  2000  59.299999\n",
      "...   ...   ...        ...\n",
      "6625  TSS  2024  68.685623\n",
      "6633  UMC  2024  96.169388\n",
      "6634  URY  2024  98.910004\n",
      "6643  WLD  2024  87.740700\n",
      "6647  ZAF  2024  91.150002\n",
      "\n",
      "[1863 rows x 3 columns]\n"
     ]
    }
   ],
   "source": [
    "print(edu_long.isna().any())\n",
    "edu_filtered=edu_long.dropna()\n",
    "print(edu_filtered)"
   ]
  },
  {
   "cell_type": "code",
   "execution_count": 208,
   "id": "9bd5ec73-b728-45bf-b127-e9ac67a5a376",
   "metadata": {},
   "outputs": [
    {
     "name": "stdout",
     "output_type": "stream",
     "text": [
      "Country          False\n",
      "Code             False\n",
      "Year             False\n",
      "Emission rate    False\n",
      "Region           False\n",
      "dtype: bool\n"
     ]
    }
   ],
   "source": [
    "print(co_asia.isna().any())"
   ]
  },
  {
   "cell_type": "code",
   "execution_count": 209,
   "id": "8a74f3fd-f84b-4b4f-81c3-e91794990f36",
   "metadata": {},
   "outputs": [
    {
     "name": "stdout",
     "output_type": "stream",
     "text": [
      "Code    False\n",
      "Year    False\n",
      "GDP      True\n",
      "dtype: bool\n",
      "     Code  Year           GDP\n",
      "2     AFG  2000    174.930991\n",
      "8     ARE  2000  29865.502347\n",
      "10    ARM  2000    593.450582\n",
      "15    AZE  2000    655.097250\n",
      "20    BGD  2000    396.670730\n",
      "...   ...   ...           ...\n",
      "6619  TKM  2024   8571.607029\n",
      "6621  TLS  2024   1343.148860\n",
      "6628  TUR  2024  15473.287264\n",
      "6636  UZB  2024   3161.700106\n",
      "6641  VNM  2024   4717.290287\n",
      "\n",
      "[1120 rows x 3 columns]\n"
     ]
    }
   ],
   "source": [
    "print(gdp_asia.isna().any())\n",
    "gdp_asia_filtered = gdp_asia.dropna()\n",
    "print(gdp_asia_filtered)"
   ]
  },
  {
   "cell_type": "code",
   "execution_count": 210,
   "id": "f90f8cc6-4308-4cc9-9bdf-79b0dd2f4165",
   "metadata": {},
   "outputs": [
    {
     "name": "stdout",
     "output_type": "stream",
     "text": [
      "Code    False\n",
      "Year    False\n",
      "Lit      True\n",
      "dtype: bool\n",
      "     Code  Year        Lit\n",
      "40    CHN  2000  90.919998\n",
      "113   IRQ  2000  74.050003\n",
      "129   LAO  2000  69.580002\n",
      "163   MNG  2000  97.769997\n",
      "169   MYS  2000  88.690002\n",
      "...   ...   ...        ...\n",
      "6392  ARE  2024  98.809998\n",
      "6406  BHR  2024  97.820000\n",
      "6466  GEO  2024  99.680000\n",
      "6580  PSE  2024  97.944980\n",
      "6589  SAU  2024  97.930000\n",
      "\n",
      "[304 rows x 3 columns]\n"
     ]
    }
   ],
   "source": [
    "print(edu_asia.isna().any())\n",
    "edu_asia_filtered=edu_asia.dropna()\n",
    "print(edu_asia_filtered)"
   ]
  },
  {
   "cell_type": "markdown",
   "id": "266ea90b-dc2b-4672-ba92-d848a0204c8a",
   "metadata": {},
   "source": [
    "Merging two dataframes so we can work with them and calculate everything we need later, since we are working with multiple seperate (different) datasets, not one"
   ]
  },
  {
   "cell_type": "code",
   "execution_count": 211,
   "id": "500aeb1e-7082-4152-b007-8e05b6f0b239",
   "metadata": {},
   "outputs": [
    {
     "name": "stdout",
     "output_type": "stream",
     "text": [
      "          Country Code  Year  Emission rate          GDP\n",
      "0     Afghanistan  AFG  2000       0.052017   174.930991\n",
      "1     Afghanistan  AFG  2001       0.052706   138.706822\n",
      "2     Afghanistan  AFG  2002       0.062727   178.954088\n",
      "3     Afghanistan  AFG  2003       0.068605   198.871116\n",
      "4     Afghanistan  AFG  2004       0.052513   221.763654\n",
      "...           ...  ...   ...            ...          ...\n",
      "4786     Zimbabwe  ZWE  2019       0.672038  1683.913136\n",
      "4787     Zimbabwe  ZWE  2020       0.547083  1730.453910\n",
      "4788     Zimbabwe  ZWE  2021       0.645913  1724.387271\n",
      "4789     Zimbabwe  ZWE  2022       0.648759  2040.546587\n",
      "4790     Zimbabwe  ZWE  2023       0.683199  2156.034093\n",
      "\n",
      "[4791 rows x 5 columns]\n"
     ]
    }
   ],
   "source": [
    "#co2 emissions per capita with GDP level of All counties \n",
    "co_ready = co_filtered[['Country','Code','Year','Emission rate']]\n",
    "gdp_ready = gdp_filtered[['Code','Year','GDP']]\n",
    "merge_co_gdp = co_ready.merge(gdp_ready, on=['Code','Year'])\n",
    "print(merge_co_gdp)"
   ]
  },
  {
   "cell_type": "code",
   "execution_count": 212,
   "id": "d4852106-c893-4faa-bb7b-20f036497e4a",
   "metadata": {},
   "outputs": [
    {
     "name": "stdout",
     "output_type": "stream",
     "text": [
      "          Country Code  Year  Emission rate          Region          GDP\n",
      "0     Afghanistan  AFG  2000       0.052017      South Asia   174.930991\n",
      "1     Afghanistan  AFG  2001       0.052706      South Asia   138.706822\n",
      "2     Afghanistan  AFG  2002       0.062727      South Asia   178.954088\n",
      "3     Afghanistan  AFG  2003       0.068605      South Asia   198.871116\n",
      "4     Afghanistan  AFG  2004       0.052513      South Asia   221.763654\n",
      "...           ...  ...   ...            ...             ...          ...\n",
      "1075      Vietnam  VNM  2019       3.490108  Southeast Asia  3440.900254\n",
      "1076      Vietnam  VNM  2020       3.695581  Southeast Asia  3534.039535\n",
      "1077      Vietnam  VNM  2021       3.173521  Southeast Asia  3704.193559\n",
      "1078      Vietnam  VNM  2022       2.985874  Southeast Asia  4147.697772\n",
      "1079      Vietnam  VNM  2023       3.335514  Southeast Asia  4323.350320\n",
      "\n",
      "[1080 rows x 6 columns]\n"
     ]
    }
   ],
   "source": [
    "#Asian countries GDP and CO2 emissions only\n",
    "co_ready = co_asia[['Country','Code','Year','Emission rate','Region']]\n",
    "gdp_asia_ready = gdp_asia_filtered[['Code','Year','GDP']]\n",
    "merge_co_gdp_asia = co_ready.merge(gdp_asia_ready, on=['Code','Year'])\n",
    "print(merge_co_gdp_asia)"
   ]
  },
  {
   "cell_type": "code",
   "execution_count": 213,
   "id": "146dd4d7-1b44-45a3-8a38-10dcee188cb4",
   "metadata": {},
   "outputs": [
    {
     "name": "stdout",
     "output_type": "stream",
     "text": [
      "         Country Code  Year  Emission rate        Lit\n",
      "0    Afghanistan  AFG  2011       0.403381  31.450001\n",
      "1    Afghanistan  AFG  2015       0.285831  33.750000\n",
      "2    Afghanistan  AFG  2020       0.297063  35.986555\n",
      "3    Afghanistan  AFG  2021       0.256794  37.270000\n",
      "4        Albania  ALB  2001       1.023099  98.709999\n",
      "..           ...  ...   ...            ...        ...\n",
      "877       Zambia  ZMB  2020       0.427314  81.759154\n",
      "878       Zambia  ZMB  2021       0.397158  79.945009\n",
      "879       Zambia  ZMB  2022       0.373235  79.975143\n",
      "880       Zambia  ZMB  2023       0.373911  82.041806\n",
      "881     Zimbabwe  ZWE  2019       0.672038  93.230003\n",
      "\n",
      "[882 rows x 5 columns]\n"
     ]
    }
   ],
   "source": [
    "#CO2 emission rate and Literacy level of all countries \n",
    "co_ready = co_filtered[['Country','Code','Year','Emission rate']]\n",
    "edu_ready = edu_filtered[['Code','Year','Lit']]\n",
    "merge_co_edu = co_ready.merge(edu_ready, on=['Code','Year'])\n",
    "print(merge_co_edu)"
   ]
  },
  {
   "cell_type": "code",
   "execution_count": 214,
   "id": "ffacbcaa-bc8a-4624-991d-eb2c072a9178",
   "metadata": {},
   "outputs": [
    {
     "name": "stdout",
     "output_type": "stream",
     "text": [
      "         Country Code  Year  Emission rate         Lit\n",
      "0    Afghanistan  AFG  2011       0.403381   31.450001\n",
      "1    Afghanistan  AFG  2015       0.285831   33.750000\n",
      "2    Afghanistan  AFG  2020       0.297063   35.986555\n",
      "3    Afghanistan  AFG  2021       0.256794   37.270000\n",
      "4        Armenia  ARM  2001       1.145363   99.400002\n",
      "..           ...  ...   ...            ...         ...\n",
      "294   Uzbekistan  UZB  2022       3.578780  100.000000\n",
      "295      Vietnam  VNM  2000       0.699062   90.160004\n",
      "296      Vietnam  VNM  2009       1.439895   93.519997\n",
      "297      Vietnam  VNM  2019       3.490108   95.750000\n",
      "298      Vietnam  VNM  2022       2.985874   96.129997\n",
      "\n",
      "[299 rows x 5 columns]\n"
     ]
    }
   ],
   "source": [
    "#CO2 emission rate and Literacy level of Asian countries \n",
    "co_ready = co_filtered[['Country','Code','Year','Emission rate']]\n",
    "edu_asia_ready = edu_asia_filtered[['Code','Year','Lit']]\n",
    "merge_co_edu_asia = co_ready.merge(edu_asia_ready, on=['Code','Year'])\n",
    "print(merge_co_edu_asia)"
   ]
  },
  {
   "cell_type": "markdown",
   "id": "e30219b8-622b-4db0-aa81-29d9539a57b7",
   "metadata": {},
   "source": [
    "Research Questions 1: What is the relationship between CO2 emissions per capita and GDP per capita of all countries?  \n",
    "Null Hypothesis: There is no relationship between CO2 emissions per capita and GDP per capita of all countries\n",
    "Hypothesis 1: Countries with higher GPD per capita have more CO2 emissions per capita"
   ]
  },
  {
   "cell_type": "code",
   "execution_count": 215,
   "id": "535c8aa6-1524-4b35-b3f8-d84f3552fac8",
   "metadata": {},
   "outputs": [
    {
     "data": {
      "text/plain": [
       "<Axes: xlabel='GDP', ylabel='Emission rate'>"
      ]
     },
     "execution_count": 215,
     "metadata": {},
     "output_type": "execute_result"
    },
    {
     "data": {
      "image/png": "[encoded data removed]",
      "text/plain": [
       "<Figure size 640x480 with 1 Axes>"
      ]
     },
     "metadata": {},
     "output_type": "display_data"
    }
   ],
   "source": [
    "merge_co_gdp.plot.scatter('GDP','Emission rate')"
   ]
  },
  {
   "cell_type": "code",
   "execution_count": 216,
   "id": "98d54407-def0-4217-8391-0ace08861b4a",
   "metadata": {},
   "outputs": [
    {
     "name": "stdout",
     "output_type": "stream",
     "text": [
      "Correlation: 0.49104457039263305\n",
      "p-value: 2.7438351915934954e-289\n",
      "rejecting the null hypothesis\n"
     ]
    }
   ],
   "source": [
    "from scipy.stats import pearsonr\n",
    "corr, p_value = pearsonr(merge_co_gdp['GDP'], merge_co_gdp['Emission rate'])\n",
    "print(\"Correlation:\", corr)\n",
    "print(\"p-value:\", p_value)\n",
    "if p_value>=0.05:\n",
    "  print(\"accept the null hypothesis\")\n",
    "else:\n",
    "  print(\"rejecting the null hypothesis\")"
   ]
  },
  {
   "cell_type": "markdown",
   "id": "e69ea015-2fca-4d93-aae3-4d1f3afa365f",
   "metadata": {},
   "source": [
    "Conclusion: The correlation analysis shows a moderate positive relationship between CO2 emissions per capita and GDP per capita (correlation coefficient = 0.49). The p-value (2.74e-289) is far below the 0.05 significance level, indicating that the result is statistically significant. Therefore, the null hypothesis is rejected, and we accept the alternative hypothesis that countries with higher GDP per capita tend to have higher CO2 emissions per capita. This suggests that as economic activity and income levels increase, carbon emissions also tend to rise"
   ]
  },
  {
   "cell_type": "markdown",
   "id": "9e303595-ddfb-4944-8472-73be36075e77",
   "metadata": {},
   "source": [
    "Research Questions 2: What is the relationship between CO2 emissions per capita and GDP per capita of Asian countries?\n",
    "Null Hypothesis 1: There is no relationship between CO2 emissions per capita and GDP per capita of Asian countries."
   ]
  },
  {
   "cell_type": "code",
   "execution_count": 217,
   "id": "67047641-6f25-4d00-98e8-499b3a7c184b",
   "metadata": {},
   "outputs": [
    {
     "data": {
      "text/plain": [
       "<Axes: xlabel='GDP', ylabel='Emission rate'>"
      ]
     },
     "execution_count": 217,
     "metadata": {},
     "output_type": "execute_result"
    },
    {
     "data": {
      "image/png": "[encoded data removed]",
      "text/plain": [
       "<Figure size 640x480 with 1 Axes>"
      ]
     },
     "metadata": {},
     "output_type": "display_data"
    }
   ],
   "source": [
    "merge_co_gdp_asia.plot.scatter('GDP','Emission rate')"
   ]
  },
  {
   "cell_type": "code",
   "execution_count": 218,
   "id": "9a07c3f7-77ac-4bcd-9f1f-89c1cf259189",
   "metadata": {},
   "outputs": [
    {
     "name": "stdout",
     "output_type": "stream",
     "text": [
      "Correlation: 0.6329331080454598\n",
      "p-value: 5.90483601277404e-122\n",
      "rejecting the null hypothesis\n"
     ]
    }
   ],
   "source": [
    "corr, p_value = pearsonr(merge_co_gdp_asia['GDP'], merge_co_gdp_asia['Emission rate'])\n",
    "print(\"Correlation:\", corr)\n",
    "print(\"p-value:\", p_value)\n",
    "if p_value>=0.05:\n",
    "  print(\"accept the null hypothesis\")\n",
    "else:\n",
    "  print(\"rejecting the null hypothesis\")"
   ]
  },
  {
   "cell_type": "markdown",
   "id": "cf7dee9c-9608-4b68-bd5f-05cfba447d6b",
   "metadata": {},
   "source": [
    "Conclusion: The correlation analysis indicates a strong positive relationship between CO2 emissions per capita and GDP per capita among Asian countries (correlation coefficient = 0.63). The p-value (5.90e-122) is significantly below the 0.05 showing that the result is statistically significant. Therefore, the null hypothesis is rejected, and we accept the alternative hypothesis that higher GDP per capita is associated with higher CO₂ emissions per capita in Asia"
   ]
  },
  {
   "cell_type": "markdown",
   "id": "5b62842e-89d0-4658-84e3-921a6fdbf480",
   "metadata": {},
   "source": [
    "We also decided to test the correlation of different regions of Asia (South Asia, Southeast Asia, Central Asia, East Asia). It is not included in the Research Question and Hypothesis, just for our own observation and possible future investigation."
   ]
  },
  {
   "cell_type": "code",
   "execution_count": 219,
   "id": "91452b03-10d0-4b1b-8fe7-2ada13345444",
   "metadata": {},
   "outputs": [
    {
     "name": "stdout",
     "output_type": "stream",
     "text": [
      "                                   GDP  Emission rate\n",
      "Region                                               \n",
      "Central Asia   GDP            1.000000       0.826531\n",
      "               Emission rate  0.826531       1.000000\n",
      "East Asia      GDP            1.000000      -0.223625\n",
      "               Emission rate -0.223625       1.000000\n",
      "South Asia     GDP            1.000000       0.649072\n",
      "               Emission rate  0.649072       1.000000\n",
      "Southeast Asia GDP            1.000000       0.679027\n",
      "               Emission rate  0.679027       1.000000\n",
      "West Asia      GDP            1.000000       0.764568\n",
      "               Emission rate  0.764568       1.000000\n"
     ]
    }
   ],
   "source": [
    "correlation=merge_co_gdp_asia.groupby('Region')[['GDP','Emission rate']].corr()\n",
    "print(correlation)"
   ]
  },
  {
   "cell_type": "code",
   "execution_count": 220,
   "id": "27191224-b375-4b27-bc77-762843492b1e",
   "metadata": {},
   "outputs": [
    {
     "data": {
      "image/png": "[encoded data removed]",
      "text/plain": [
       "<Figure size 500x500 with 2 Axes>"
      ]
     },
     "metadata": {},
     "output_type": "display_data"
    }
   ],
   "source": [
    "plt.figure(figsize=(5, 5))\n",
    "sns.heatmap(correlation, annot=True)\n",
    "plt.title(\"Correlation Matrix\")\n",
    "plt.show()"
   ]
  },
  {
   "cell_type": "markdown",
   "id": "926a488d-62b4-46a7-9995-1bcd62b69b27",
   "metadata": {},
   "source": [
    "Interestingly, the strongest positive correlation of CO2 emissions and GDP is shown in Central Asia (corr=0.83), meaning higher the GDP level, higher the CO2 emissions. Same with South Asia (0.65), Southeast Asia (0.68) and West Asia (0.76). However, East Asia (-0.22) shows a weak negative correlation, implying that high GDP does not result in higher CO2 emissions."
   ]
  },
  {
   "cell_type": "markdown",
   "id": "ff53c12d-e948-4833-ab54-334a3dced06d",
   "metadata": {},
   "source": [
    "Research Question 3: What is the relationship between CO2 emissions and literacy level of countries?\n",
    "Null Hypothesis: There is no relationship between CO2 emission and level of literacy in different countries\n",
    "Hypothesis 1: Countries with more literacy level have more CO2 emission"
   ]
  },
  {
   "cell_type": "code",
   "execution_count": 221,
   "id": "d0a2fbcc-cf8e-43a5-8af8-c52fbfe86287",
   "metadata": {},
   "outputs": [
    {
     "data": {
      "text/plain": [
       "<Axes: xlabel='Lit', ylabel='Emission rate'>"
      ]
     },
     "execution_count": 221,
     "metadata": {},
     "output_type": "execute_result"
    },
    {
     "data": {
      "image/png": "[encoded data removed]",
      "text/plain": [
       "<Figure size 640x480 with 1 Axes>"
      ]
     },
     "metadata": {},
     "output_type": "display_data"
    }
   ],
   "source": [
    "merge_co_edu.plot.scatter('Lit','Emission rate')"
   ]
  },
  {
   "cell_type": "code",
   "execution_count": 222,
   "id": "fae90577-0eaa-46bc-a452-1fee951f4765",
   "metadata": {},
   "outputs": [
    {
     "name": "stdout",
     "output_type": "stream",
     "text": [
      "Correlation: 0.3081595871723244\n",
      "p-value: 7.405518536153116e-21\n",
      "rejecting the null hypothesis\n"
     ]
    }
   ],
   "source": [
    "corr, p_value = pearsonr(merge_co_edu['Lit'], merge_co_edu['Emission rate'])\n",
    "print(\"Correlation:\", corr)\n",
    "print(\"p-value:\", p_value)\n",
    "if p_value>=0.05:\n",
    "  print(\"accept the null hypothesis\")\n",
    "else:\n",
    "  print(\"rejecting the null hypothesis\")"
   ]
  },
  {
   "cell_type": "markdown",
   "id": "478aac74-625c-4a84-8c66-f2e0d18f37a8",
   "metadata": {},
   "source": [
    "Conclusion: The correlation analysis shows a moderate positive relationship between CO2 emissions per capita and literacy levels across countries (corr=0.31). The p-value (7.41e-21) is far below the 0.05 significance level, indicating that the result is statistically significant. Therefore, the null hypothesis is rejected, and the alternative hypothesis is accepted, countries with higher literacy levels tend to have higher CO₂ emissions. However, the moderate positive relationship implies that the literacy level is not a strong predictor of CO2 emissions"
   ]
  },
  {
   "cell_type": "markdown",
   "id": "9761c075-e7de-498f-8544-af6ad1f9ef7e",
   "metadata": {},
   "source": [
    "Research Question 4: What is the relationship between CO2 emissions and literacy level of Asian countries?\n",
    "Null Hypothesis: There is no relationship between CO2 emission and level of literacy of Asian countries\n",
    "Hypothesis 1: Asian countries with more literacy level have more CO2 emission"
   ]
  },
  {
   "cell_type": "code",
   "execution_count": 223,
   "id": "8830f4bf-b36d-47f0-a8a8-a7ef2dbcfcaa",
   "metadata": {},
   "outputs": [
    {
     "data": {
      "text/plain": [
       "<Axes: xlabel='Lit', ylabel='Emission rate'>"
      ]
     },
     "execution_count": 223,
     "metadata": {},
     "output_type": "execute_result"
    },
    {
     "data": {
      "image/png": "[encoded data removed]",
      "text/plain": [
       "<Figure size 640x480 with 1 Axes>"
      ]
     },
     "metadata": {},
     "output_type": "display_data"
    }
   ],
   "source": [
    "merge_co_edu_asia.plot.scatter('Lit','Emission rate')"
   ]
  },
  {
   "cell_type": "code",
   "execution_count": 224,
   "id": "d3b02a36-12fc-468f-a6fc-44c7839a6a3b",
   "metadata": {},
   "outputs": [
    {
     "name": "stdout",
     "output_type": "stream",
     "text": [
      "Correlation: 0.2696174986172553\n",
      "p-value: 2.2398385898969844e-06\n",
      "rejecting the null hypothesis\n"
     ]
    }
   ],
   "source": [
    "corr, p_value = pearsonr(merge_co_edu_asia['Lit'], merge_co_edu_asia['Emission rate'])\n",
    "print(\"Correlation:\", corr)\n",
    "print(\"p-value:\", p_value)\n",
    "if p_value>=0.05:\n",
    "  print(\"accept the null hypothesis\")\n",
    "else:\n",
    "  print(\"rejecting the null hypothesis\")"
   ]
  },
  {
   "cell_type": "markdown",
   "id": "5c67d3b6-c0b0-45b4-9f33-b18e42490237",
   "metadata": {},
   "source": [
    "Conslusion: The analysis shows a weak positive relationship between CO₂ emissions per capita and literacy levels among Asian countries (corr 0.27). The p-value (2.24e-6) is well below the 0.05 significance level, indicating that the result is statistically significant. Therefore, the null hypothesis is rejected, and the alternative hypothesis is accepted, Asian countries with higher literacy levels tend to have slightly higher CO₂ emissions. However, the weak positive relationship also indicates that the literacy level is not a strong predictor of CO2 emissions in Asia."
   ]
  }
 ],
 "metadata": {
  "kernelspec": {
   "display_name": "Python 3.11 (jupyter_env)",
   "language": "python",
   "name": "jupyter_env"
  },
  "language_info": {
   "codemirror_mode": {
    "name": "ipython",
    "version": 3
   },
   "file_extension": ".py",
   "mimetype": "text/x-python",
   "name": "python",
   "nbconvert_exporter": "python",
   "pygments_lexer": "ipython3",
   "version": "3.11.13"
  }
 },
 "nbformat": 4,
 "nbformat_minor": 5
}
